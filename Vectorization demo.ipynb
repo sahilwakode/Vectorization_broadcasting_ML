{
 "cells": [
  {
   "cell_type": "code",
   "execution_count": 1,
   "id": "8aa07c0e",
   "metadata": {},
   "outputs": [],
   "source": [
    "import numpy as np\n",
    "a=np.array([1,2,3,4])"
   ]
  },
  {
   "cell_type": "code",
   "execution_count": 2,
   "id": "e7d39c19",
   "metadata": {},
   "outputs": [
    {
     "name": "stdout",
     "output_type": "stream",
     "text": [
      "[1 2 3 4]\n"
     ]
    }
   ],
   "source": [
    "print(a)"
   ]
  },
  {
   "cell_type": "code",
   "execution_count": 16,
   "id": "9ef8dd63",
   "metadata": {},
   "outputs": [
    {
     "name": "stdout",
     "output_type": "stream",
     "text": [
      "249737.58329456666\n",
      "Vectorized version :0.6721019744873047ms\n",
      "249737.58329456876\n",
      "For loop :322.782039642334ms\n"
     ]
    }
   ],
   "source": [
    "import time\n",
    "a=np.random.rand(1000000)\n",
    "b=np.random.rand(1000000)\n",
    "tic=time.time()\n",
    "c=np.dot(a,b)\n",
    "toc=time.time()\n",
    "print(c)\n",
    "print(\"Vectorized version :\"+str(1000*(toc-tic))+\"ms\")\n",
    "c=0\n",
    "tic=time.time()\n",
    "for i in range(1000000):\n",
    "     c+=a[i]*b[i]\n",
    "toc=time.time()\n",
    "print(c)\n",
    "print(\"For loop :\" + str(1000*(toc-tic))+\"ms\")\n"
   ]
  },
  {
   "cell_type": "code",
   "execution_count": null,
   "id": "7a09136b",
   "metadata": {},
   "outputs": [],
   "source": []
  },
  {
   "cell_type": "code",
   "execution_count": null,
   "id": "dfa5a8de",
   "metadata": {},
   "outputs": [],
   "source": []
  }
 ],
 "metadata": {
  "kernelspec": {
   "display_name": "Python 3 (ipykernel)",
   "language": "python",
   "name": "python3"
  },
  "language_info": {
   "codemirror_mode": {
    "name": "ipython",
    "version": 3
   },
   "file_extension": ".py",
   "mimetype": "text/x-python",
   "name": "python",
   "nbconvert_exporter": "python",
   "pygments_lexer": "ipython3",
   "version": "3.9.12"
  }
 },
 "nbformat": 4,
 "nbformat_minor": 5
}
